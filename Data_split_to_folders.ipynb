{
 "cells": [
  {
   "cell_type": "code",
   "execution_count": 40,
   "id": "2c98a7ad",
   "metadata": {},
   "outputs": [],
   "source": [
    "import os\n",
    "import glob\n",
    "import shutil\n",
    "import tqdm"
   ]
  },
  {
   "cell_type": "code",
   "execution_count": 37,
   "id": "30a60294",
   "metadata": {},
   "outputs": [],
   "source": [
    "data_path='Dataset/'\n",
    "os.makedirs('test', exist_ok=True)\n",
    "os.makedirs('train', exist_ok=True)\n",
    "os.makedirs('val', exist_ok=True)"
   ]
  },
  {
   "cell_type": "code",
   "execution_count": 38,
   "id": "51cf7cdd",
   "metadata": {},
   "outputs": [
    {
     "data": {
      "text/plain": [
       "['Pepper__bell___Bacterial_spot',\n",
       " 'Pepper__bell___healthy',\n",
       " 'Potato___Early_blight',\n",
       " 'Potato___healthy',\n",
       " 'Potato___Late_blight',\n",
       " 'Tomato_Bacterial_spot',\n",
       " 'Tomato_Early_blight',\n",
       " 'Tomato_healthy',\n",
       " 'Tomato_Late_blight',\n",
       " 'Tomato_Leaf_Mold',\n",
       " 'Tomato_Septoria_leaf_spot',\n",
       " 'Tomato_Spider_mites_Two_spotted_spider_mite',\n",
       " 'Tomato__Target_Spot',\n",
       " 'Tomato__Tomato_mosaic_virus',\n",
       " 'Tomato__Tomato_YellowLeaf__Curl_Virus']"
      ]
     },
     "execution_count": 38,
     "metadata": {},
     "output_type": "execute_result"
    }
   ],
   "source": [
    "labels = os.listdir(data_path)\n",
    "# labels.pop('test')\n",
    "labels"
   ]
  },
  {
   "cell_type": "code",
   "execution_count": 39,
   "id": "3aece112",
   "metadata": {},
   "outputs": [],
   "source": [
    "liatimg = [i for i in os.listdir(os.path.join(data_path, labels[0])) if i.lower().endswith('jpg')]"
   ]
  },
  {
   "cell_type": "code",
   "execution_count": 43,
   "id": "8a5940d0",
   "metadata": {},
   "outputs": [
    {
     "name": "stderr",
     "output_type": "stream",
     "text": [
      "\r",
      "  0%|                                                                                           | 0/15 [00:00<?, ?it/s]"
     ]
    },
    {
     "name": "stdout",
     "output_type": "stream",
     "text": [
      "Pepper__bell___Bacterial_spot total: 997 Train: 598  Test: 199 Val: 200\n"
     ]
    },
    {
     "name": "stderr",
     "output_type": "stream",
     "text": [
      "\r",
      "  7%|█████▌                                                                             | 1/15 [00:00<00:11,  1.18it/s]"
     ]
    },
    {
     "name": "stdout",
     "output_type": "stream",
     "text": [
      "Pepper__bell___healthy total: 1477 Train: 886  Test: 295 Val: 296\n"
     ]
    },
    {
     "name": "stderr",
     "output_type": "stream",
     "text": [
      "\r",
      " 13%|███████████                                                                        | 2/15 [00:02<00:15,  1.23s/it]"
     ]
    },
    {
     "name": "stdout",
     "output_type": "stream",
     "text": [
      "Potato___Early_blight total: 1000 Train: 600  Test: 200 Val: 200\n"
     ]
    },
    {
     "name": "stderr",
     "output_type": "stream",
     "text": [
      " 27%|██████████████████████▏                                                            | 4/15 [00:03<00:07,  1.39it/s]"
     ]
    },
    {
     "name": "stdout",
     "output_type": "stream",
     "text": [
      "Potato___healthy total: 152 Train: 91  Test: 30 Val: 31\n",
      "Potato___Late_blight total: 1000 Train: 600  Test: 200 Val: 200\n"
     ]
    },
    {
     "name": "stderr",
     "output_type": "stream",
     "text": [
      "\r",
      " 33%|███████████████████████████▋                                                       | 5/15 [00:04<00:07,  1.30it/s]"
     ]
    },
    {
     "name": "stdout",
     "output_type": "stream",
     "text": [
      "Tomato_Bacterial_spot total: 2127 Train: 1276  Test: 425 Val: 426\n"
     ]
    },
    {
     "name": "stderr",
     "output_type": "stream",
     "text": [
      "\r",
      " 40%|█████████████████████████████████▏                                                 | 6/15 [00:06<00:11,  1.25s/it]"
     ]
    },
    {
     "name": "stdout",
     "output_type": "stream",
     "text": [
      "Tomato_Early_blight total: 1000 Train: 600  Test: 200 Val: 200\n"
     ]
    },
    {
     "name": "stderr",
     "output_type": "stream",
     "text": [
      "\r",
      " 47%|██████████████████████████████████████▋                                            | 7/15 [00:07<00:09,  1.19s/it]"
     ]
    },
    {
     "name": "stdout",
     "output_type": "stream",
     "text": [
      "Tomato_healthy total: 1591 Train: 954  Test: 318 Val: 319\n"
     ]
    },
    {
     "name": "stderr",
     "output_type": "stream",
     "text": [
      "\r",
      " 53%|████████████████████████████████████████████▎                                      | 8/15 [00:09<00:10,  1.56s/it]"
     ]
    },
    {
     "name": "stdout",
     "output_type": "stream",
     "text": [
      "Tomato_Late_blight total: 1908 Train: 1144  Test: 381 Val: 383\n"
     ]
    },
    {
     "name": "stderr",
     "output_type": "stream",
     "text": [
      "\r",
      " 60%|█████████████████████████████████████████████████▊                                 | 9/15 [00:13<00:12,  2.06s/it]"
     ]
    },
    {
     "name": "stdout",
     "output_type": "stream",
     "text": [
      "Tomato_Leaf_Mold total: 952 Train: 571  Test: 190 Val: 191\n"
     ]
    },
    {
     "name": "stderr",
     "output_type": "stream",
     "text": [
      "\r",
      " 67%|██████████████████████████████████████████████████████▋                           | 10/15 [00:14<00:09,  1.89s/it]"
     ]
    },
    {
     "name": "stdout",
     "output_type": "stream",
     "text": [
      "Tomato_Septoria_leaf_spot total: 1771 Train: 1062  Test: 354 Val: 355\n"
     ]
    },
    {
     "name": "stderr",
     "output_type": "stream",
     "text": [
      "\r",
      " 73%|████████████████████████████████████████████████████████████▏                     | 11/15 [00:16<00:07,  1.78s/it]"
     ]
    },
    {
     "name": "stdout",
     "output_type": "stream",
     "text": [
      "Tomato_Spider_mites_Two_spotted_spider_mite total: 1676 Train: 1005  Test: 335 Val: 336\n"
     ]
    },
    {
     "name": "stderr",
     "output_type": "stream",
     "text": [
      "\r",
      " 80%|█████████████████████████████████████████████████████████████████▌                | 12/15 [00:18<00:05,  1.99s/it]"
     ]
    },
    {
     "name": "stdout",
     "output_type": "stream",
     "text": [
      "Tomato__Target_Spot total: 1404 Train: 842  Test: 280 Val: 282\n"
     ]
    },
    {
     "name": "stderr",
     "output_type": "stream",
     "text": [
      "\r",
      " 87%|███████████████████████████████████████████████████████████████████████           | 13/15 [00:19<00:03,  1.79s/it]"
     ]
    },
    {
     "name": "stdout",
     "output_type": "stream",
     "text": [
      "Tomato__Tomato_mosaic_virus total: 373 Train: 223  Test: 74 Val: 76\n"
     ]
    },
    {
     "name": "stderr",
     "output_type": "stream",
     "text": [
      "\r",
      " 93%|████████████████████████████████████████████████████████████████████████████▌     | 14/15 [00:20<00:01,  1.46s/it]"
     ]
    },
    {
     "name": "stdout",
     "output_type": "stream",
     "text": [
      "Tomato__Tomato_YellowLeaf__Curl_Virus total: 3208 Train: 1924  Test: 641 Val: 643\n"
     ]
    },
    {
     "name": "stderr",
     "output_type": "stream",
     "text": [
      "100%|██████████████████████████████████████████████████████████████████████████████████| 15/15 [00:23<00:00,  1.58s/it]\n"
     ]
    }
   ],
   "source": [
    "for i in tqdm.tqdm(labels):\n",
    "    liatimg = [j for j in os.listdir(os.path.join(data_path, i)) if j.lower().endswith('jpg')]\n",
    "    file_count = len(liatimg)\n",
    "    trc = liatimg[:int(file_count*0.6)]\n",
    "    tsc = liatimg[int(file_count*0.6):int(file_count*0.6)+int(file_count*0.2)]\n",
    "    cv = liatimg[int(file_count*0.6)+int(file_count*0.2):]\n",
    "    print(f'{i} total: {file_count} Train: {len(trc)}  Test: {len(tsc)} Val: {len(cv)}')\n",
    "    os.makedirs(os.path.join('train',i), exist_ok=True)\n",
    "    os.makedirs(os.path.join('test',i), exist_ok=True)\n",
    "    os.makedirs(os.path.join('val',i), exist_ok=True)\n",
    "    for k in trc:\n",
    "        shutil.copy(os.path.join(data_path,i,k), os.path.join('train',i,k))\n",
    "    for k in tsc:\n",
    "        shutil.copy(os.path.join(data_path,i,k), os.path.join('test',i,k))\n",
    "    for k in cv:\n",
    "        shutil.copy(os.path.join(data_path,i,k), os.path.join('val',i,k))\n",
    "    "
   ]
  },
  {
   "cell_type": "code",
   "execution_count": 18,
   "id": "d55a2c25",
   "metadata": {},
   "outputs": [
    {
     "data": {
      "text/plain": [
       "'0022d6b7-d47c-4ee2-ae9a-392a53f48647___JR_B.Spot 8964.JPG'"
      ]
     },
     "execution_count": 18,
     "metadata": {},
     "output_type": "execute_result"
    }
   ],
   "source": [
    "os.listdir(os.path.join(data_path, labels[0]))[0]#.endswith('jpg')"
   ]
  },
  {
   "cell_type": "code",
   "execution_count": null,
   "id": "e212c97d",
   "metadata": {},
   "outputs": [],
   "source": []
  }
 ],
 "metadata": {
  "kernelspec": {
   "display_name": "Python 3.7 (tf-keras-gpu-test)",
   "language": "python",
   "name": "tf-keras-gpu-test"
  },
  "language_info": {
   "codemirror_mode": {
    "name": "ipython",
    "version": 3
   },
   "file_extension": ".py",
   "mimetype": "text/x-python",
   "name": "python",
   "nbconvert_exporter": "python",
   "pygments_lexer": "ipython3",
   "version": "3.7.11"
  }
 },
 "nbformat": 4,
 "nbformat_minor": 5
}

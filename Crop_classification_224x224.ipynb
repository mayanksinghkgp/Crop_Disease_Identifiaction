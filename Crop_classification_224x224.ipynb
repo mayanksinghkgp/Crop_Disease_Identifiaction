{
  "nbformat": 4,
  "nbformat_minor": 5,
  "metadata": {
    "kernelspec": {
      "name": "python3",
      "display_name": "Python 3"
    },
    "colab": {
      "name": "Crop_classification_224x224.ipynb",
      "provenance": [],
      "collapsed_sections": [
        "f91b3649",
        "0d1e7ed1"
      ]
    },
    "language_info": {
      "name": "python"
    },
    "accelerator": "GPU"
  },
  "cells": [
    {
      "cell_type": "markdown",
      "metadata": {
        "id": "f91b3649"
      },
      "source": [
        "### Larger Image size test"
      ],
      "id": "f91b3649"
    },
    {
      "cell_type": "code",
      "metadata": {
        "colab": {
          "base_uri": "https://localhost:8080/"
        },
        "id": "Xuq4VAsq6VTQ",
        "outputId": "2b5fc989-f638-4d35-e0aa-d5f2194d4781"
      },
      "source": [
        "from google.colab import drive\n",
        "drive.mount('/content/drive')"
      ],
      "id": "Xuq4VAsq6VTQ",
      "execution_count": null,
      "outputs": [
        {
          "output_type": "stream",
          "name": "stdout",
          "text": [
            "Mounted at /content/drive\n"
          ]
        }
      ]
    },
    {
      "cell_type": "code",
      "metadata": {
        "id": "IPrWaF4ZQJ7b"
      },
      "source": [
        "!unzip \"/content/drive/MyDrive/Colab_Files/Crop_disease/Data.zip\" -d \"/content\""
      ],
      "id": "IPrWaF4ZQJ7b",
      "execution_count": null,
      "outputs": []
    },
    {
      "cell_type": "code",
      "metadata": {
        "id": "f977b821"
      },
      "source": [
        "import pandas as pd\n",
        "import numpy as np\n",
        "import os\n",
        "import tensorflow as tf\n",
        "import matplotlib.pyplot as plt\n",
        "import cv2\n",
        "import seaborn as sns\n",
        "from sklearn.metrics import confusion_matrix\n",
        "from sklearn.model_selection import train_test_split\n",
        "from numpy import savez_compressed, load\n",
        "\n",
        "%matplotlib inline"
      ],
      "id": "f977b821",
      "execution_count": null,
      "outputs": []
    },
    {
      "cell_type": "code",
      "metadata": {
        "id": "eda9e95f"
      },
      "source": [
        "from tensorflow.keras.layers import Dense,Dropout,Flatten,Conv2D,MaxPool2D,BatchNormalization,AveragePooling2D,GlobalAveragePooling2D\n",
        "from tensorflow.keras.models import Model,Sequential\n",
        "from tensorflow.keras.optimizers import Adam\n",
        "from tensorflow.keras.callbacks import ReduceLROnPlateau, ModelCheckpoint, Callback"
      ],
      "id": "eda9e95f",
      "execution_count": null,
      "outputs": []
    },
    {
      "cell_type": "code",
      "metadata": {
        "scrolled": true,
        "colab": {
          "base_uri": "https://localhost:8080/",
          "height": 874
        },
        "id": "bac3e336",
        "outputId": "d2bbe4c0-c23b-4e71-d85b-a61c467f410c"
      },
      "source": [
        "## Simple CNN v4\n",
        "model_2d = tf.keras.Sequential([\n",
        "    # Conv2D(128,(3,3), activation = 'relu'),\n",
        "    # MaxPool2D(2,2),\n",
        "    # BatchNormalization(),\n",
        "    # Dropout(0.2),\n",
        "    Conv2D(128,(3,3), activation='relu', input_shape = (256,256,3)),\n",
        "    MaxPool2D(2,2),\n",
        "    BatchNormalization(),\n",
        "    Dropout(0.5),\n",
        "    Conv2D(64,(3,3), activation='relu'),\n",
        "    MaxPool2D(2,2),\n",
        "    BatchNormalization(),\n",
        "    Dropout(0.5),\n",
        "    Conv2D(16,(3,3), activation='relu'),\n",
        "    MaxPool2D(2,2),\n",
        "    BatchNormalization(),\n",
        "    Flatten(),\n",
        "    Dropout(0.2),\n",
        "    Dense(128, activation='relu'),\n",
        "    BatchNormalization(),\n",
        "    Dense(15, activation='softmax')\n",
        "])\n",
        "opt_2d = tf.keras.optimizers.Adam(learning_rate=0.001)\n",
        "model_2d.compile(optimizer='adam', loss='categorical_crossentropy', metrics=['accuracy'])\n",
        "\n",
        "# train_datagen = tf.keras.preprocessing.image.ImageDataGenerator(\n",
        "#     tf.keras.applications.vgg16.preprocess_input\n",
        "# )\n",
        "\n",
        "train_datagen = tf.keras.preprocessing.image.ImageDataGenerator()\n",
        "val_datagen = tf.keras.preprocessing.image.ImageDataGenerator()\n",
        "train_set = train_datagen.flow_from_directory(\n",
        "    directory = '/content/train/', class_mode= 'categorical', batch_size=32\n",
        ")\n",
        "val_set = val_datagen.flow_from_directory(\n",
        "    directory='/content/val/', class_mode= 'categorical', batch_size=32\n",
        ")\n",
        "\n",
        "\n",
        "history_2d = model_2d.fit(train_set, validation_data=val_set, epochs=15)\n",
        "\n",
        "####\n",
        "acc = history_2d.history['accuracy']\n",
        "val_acc = history_2d.history['val_accuracy']\n",
        "loss = history_2d.history['loss']\n",
        "val_loss = history_2d.history['val_loss']\n",
        "\n",
        "epochs = range(len(acc))\n",
        "\n",
        "plt.plot(epochs, acc, 'r', label='Training accuracy')\n",
        "plt.plot(epochs, val_acc, 'b', label='Validation accuracy')\n",
        "plt.title('Training and validation accuracy')\n",
        "plt.legend(loc=0)\n",
        "plt.figure()\n",
        "\n",
        "plt.show()"
      ],
      "id": "bac3e336",
      "execution_count": null,
      "outputs": [
        {
          "output_type": "stream",
          "name": "stdout",
          "text": [
            "Found 12376 images belonging to 15 classes.\n",
            "Found 4138 images belonging to 15 classes.\n",
            "Epoch 1/15\n",
            "387/387 [==============================] - 145s 365ms/step - loss: 0.8004 - accuracy: 0.7483 - val_loss: 3.9378 - val_accuracy: 0.3731\n",
            "Epoch 2/15\n",
            "387/387 [==============================] - 138s 357ms/step - loss: 0.3838 - accuracy: 0.8767 - val_loss: 2.1379 - val_accuracy: 0.5176\n",
            "Epoch 3/15\n",
            "387/387 [==============================] - 139s 358ms/step - loss: 0.2395 - accuracy: 0.9261 - val_loss: 0.8046 - val_accuracy: 0.7395\n",
            "Epoch 4/15\n",
            "387/387 [==============================] - 139s 358ms/step - loss: 0.1767 - accuracy: 0.9437 - val_loss: 1.4622 - val_accuracy: 0.6160\n",
            "Epoch 5/15\n",
            "387/387 [==============================] - 139s 358ms/step - loss: 0.1257 - accuracy: 0.9615 - val_loss: 1.5573 - val_accuracy: 0.6593\n",
            "Epoch 6/15\n",
            "387/387 [==============================] - 138s 358ms/step - loss: 0.0858 - accuracy: 0.9756 - val_loss: 0.4854 - val_accuracy: 0.8639\n",
            "Epoch 7/15\n",
            "387/387 [==============================] - 138s 357ms/step - loss: 0.0870 - accuracy: 0.9730 - val_loss: 1.0561 - val_accuracy: 0.7460\n",
            "Epoch 8/15\n",
            "387/387 [==============================] - 137s 354ms/step - loss: 0.0747 - accuracy: 0.9757 - val_loss: 0.8956 - val_accuracy: 0.7617\n",
            "Epoch 9/15\n",
            "387/387 [==============================] - 138s 356ms/step - loss: 0.0599 - accuracy: 0.9818 - val_loss: 0.5021 - val_accuracy: 0.8584\n",
            "Epoch 10/15\n",
            "387/387 [==============================] - 138s 356ms/step - loss: 0.0582 - accuracy: 0.9827 - val_loss: 0.4273 - val_accuracy: 0.8804\n",
            "Epoch 11/15\n",
            "387/387 [==============================] - 138s 355ms/step - loss: 0.0500 - accuracy: 0.9855 - val_loss: 0.7129 - val_accuracy: 0.8062\n",
            "Epoch 12/15\n",
            "387/387 [==============================] - 138s 355ms/step - loss: 0.0472 - accuracy: 0.9848 - val_loss: 0.7770 - val_accuracy: 0.7994\n",
            "Epoch 13/15\n",
            "387/387 [==============================] - 137s 355ms/step - loss: 0.0404 - accuracy: 0.9871 - val_loss: 0.5880 - val_accuracy: 0.8494\n",
            "Epoch 14/15\n",
            "387/387 [==============================] - 138s 355ms/step - loss: 0.0337 - accuracy: 0.9905 - val_loss: 0.8035 - val_accuracy: 0.8033\n",
            "Epoch 15/15\n",
            "387/387 [==============================] - 137s 355ms/step - loss: 0.0357 - accuracy: 0.9888 - val_loss: 0.9922 - val_accuracy: 0.7600\n"
          ]
        },
        {
          "output_type": "display_data",
          "data": {
            "image/png": "[encoded data removed]",
            "text/plain": [
              "<Figure size 432x288 with 1 Axes>"
            ]
          },
          "metadata": {
            "needs_background": "light"
          }
        },
        {
          "output_type": "display_data",
          "data": {
            "text/plain": [
              "<Figure size 432x288 with 0 Axes>"
            ]
          },
          "metadata": {}
        }
      ]
    },
    {
      "cell_type": "code",
      "metadata": {
        "id": "00eea7b4"
      },
      "source": [
        ""
      ],
      "id": "00eea7b4",
      "execution_count": null,
      "outputs": []
    },
    {
      "cell_type": "code",
      "metadata": {
        "id": "a2b124b1"
      },
      "source": [
        ""
      ],
      "id": "a2b124b1",
      "execution_count": null,
      "outputs": []
    },
    {
      "cell_type": "code",
      "metadata": {
        "id": "c418a2e2"
      },
      "source": [
        ""
      ],
      "id": "c418a2e2",
      "execution_count": null,
      "outputs": []
    },
    {
      "cell_type": "markdown",
      "metadata": {
        "id": "0d1e7ed1"
      },
      "source": [
        "### VGG16 with image augmentation | Summary: Train: 99.9%; Val: 94.3%"
      ],
      "id": "0d1e7ed1"
    },
    {
      "cell_type": "code",
      "metadata": {
        "scrolled": true,
        "colab": {
          "base_uri": "https://localhost:8080/"
        },
        "id": "acc1d5a6",
        "outputId": "52d34c86-0564-489a-fa99-16ef0ec0ac15"
      },
      "source": [
        "VGG = tf.keras.applications.VGG16(\n",
        "    include_top=False,\n",
        "    weights=\"imagenet\",\n",
        "    input_shape=(256,256,3),\n",
        ")\n",
        "# VGG.summary()\n",
        "for layer in VGG.layers:\n",
        "    layer.trainable = False\n",
        "\n",
        "model_vgg = Sequential()\n",
        "model_vgg.add(VGG)\n",
        "model_vgg.add(tf.keras.layers.Flatten())\n",
        "model_vgg.add(tf.keras.layers.Dense(128, activation = 'relu'))\n",
        "model_vgg.add(BatchNormalization())\n",
        "model_vgg.add(tf.keras.layers.Dropout(0.2))\n",
        "model_vgg.add(tf.keras.layers.Dense(64, activation = 'relu'))\n",
        "model_vgg.add(BatchNormalization())\n",
        "# model_vgg.add(tf.keras.layers.Dropout(0.4))\n",
        "model_vgg.add(tf.keras.layers.Dense(15, activation = 'softmax'))\n",
        "\n",
        "model_vgg.summary()\n",
        "# optimizer1 = tf.keras.optimizers.SGD(lr=0.05, decay=0.1, momentum=0.1, nesterov=False)\n",
        "\n",
        "# model_vgg.compile(optimizer= optimizer1, loss='categorical_crossentropy', metrics=['accuracy'])\n",
        "# history_vgg = model_vgg.fit(X_train,Y_train, validation_data=(X_val, Y_val), batch_size = 50, epochs=20)\n",
        "\n",
        "model_vgg.compile(optimizer= 'adam', loss='categorical_crossentropy', metrics=['accuracy'])\n",
        "\n",
        "# train_datagen = tf.keras.preprocessing.image.ImageDataGenerator(\n",
        "#     rotation_range=40,\n",
        "# \t\tzoom_range=0.2,\n",
        "# \t\twidth_shift_range=0.2,\n",
        "# \t\theight_shift_range=0.2,\n",
        "# \t\tshear_range=0.2,\n",
        "# \t\thorizontal_flip=True,\n",
        "# \t\tfill_mode=\"nearest\"\n",
        "# )\n",
        "\n",
        "train_datagen = tf.keras.preprocessing.image.ImageDataGenerator()\n",
        "val_datagen = tf.keras.preprocessing.image.ImageDataGenerator()\n",
        "train_set = train_datagen.flow_from_directory(\n",
        "    directory = '/content/train/', class_mode= 'categorical', batch_size=64\n",
        ")\n",
        "val_set = val_datagen.flow_from_directory(\n",
        "    directory='/content/val/', class_mode= 'categorical', batch_size=64\n",
        ")\n",
        "\n",
        "\n",
        "history_vgg = model_vgg.fit(train_set, validation_data=val_set, epochs=5)"
      ],
      "id": "acc1d5a6",
      "execution_count": null,
      "outputs": [
        {
          "output_type": "stream",
          "name": "stdout",
          "text": [
            "Model: \"sequential_8\"\n",
            "_________________________________________________________________\n",
            " Layer (type)                Output Shape              Param #   \n",
            "=================================================================\n",
            " vgg16 (Functional)          (None, 8, 8, 512)         14714688  \n",
            "                                                                 \n",
            " flatten_8 (Flatten)         (None, 32768)             0         \n",
            "                                                                 \n",
            " dense_21 (Dense)            (None, 128)               4194432   \n",
            "                                                                 \n",
            " batch_normalization_10 (Bat  (None, 128)              512       \n",
            " chNormalization)                                                \n",
            "                                                                 \n",
            " dropout_8 (Dropout)         (None, 128)               0         \n",
            "                                                                 \n",
            " dense_22 (Dense)            (None, 64)                8256      \n",
            "                                                                 \n",
            " batch_normalization_11 (Bat  (None, 64)               256       \n",
            " chNormalization)                                                \n",
            "                                                                 \n",
            " dense_23 (Dense)            (None, 15)                975       \n",
            "                                                                 \n",
            "=================================================================\n",
            "Total params: 18,919,119\n",
            "Trainable params: 4,204,047\n",
            "Non-trainable params: 14,715,072\n",
            "_________________________________________________________________\n",
            "Found 12376 images belonging to 15 classes.\n",
            "Found 4138 images belonging to 15 classes.\n",
            "Epoch 1/5\n",
            "194/194 [==============================] - 150s 764ms/step - loss: 0.5352 - accuracy: 0.8464 - val_loss: 0.2499 - val_accuracy: 0.9207\n",
            "Epoch 2/5\n",
            "194/194 [==============================] - 148s 762ms/step - loss: 0.0901 - accuracy: 0.9809 - val_loss: 0.1982 - val_accuracy: 0.9377\n",
            "Epoch 3/5\n",
            "194/194 [==============================] - 148s 762ms/step - loss: 0.0283 - accuracy: 0.9971 - val_loss: 0.1667 - val_accuracy: 0.9476\n",
            "Epoch 4/5\n",
            "194/194 [==============================] - 148s 762ms/step - loss: 0.0142 - accuracy: 0.9987 - val_loss: 0.1646 - val_accuracy: 0.9454\n",
            "Epoch 5/5\n",
            "194/194 [==============================] - 148s 764ms/step - loss: 0.0101 - accuracy: 0.9989 - val_loss: 0.1846 - val_accuracy: 0.9427\n"
          ]
        }
      ]
    },
    {
      "cell_type": "markdown",
      "metadata": {
        "id": "f4350c46"
      },
      "source": [
        "### **With preprocessing inputs** | Summary: Train: 99.9%; Val: 96.33%\n",
        "\n",
        "\n",
        "\n",
        "---\n",
        "\n"
      ],
      "id": "f4350c46"
    },
    {
      "cell_type": "code",
      "metadata": {
        "colab": {
          "base_uri": "https://localhost:8080/"
        },
        "id": "8eda4bed",
        "outputId": "cbf382ff-f70e-4f56-9d96-4851f1e0909f"
      },
      "source": [
        "VGG = tf.keras.applications.VGG16(\n",
        "    include_top=False,\n",
        "    weights=\"imagenet\",\n",
        "    input_shape=(256,256,3),\n",
        ")\n",
        "# VGG.summary()\n",
        "for layer in VGG.layers:\n",
        "    layer.trainable = False\n",
        "\n",
        "model_vgg = Sequential()\n",
        "model_vgg.add(VGG)\n",
        "model_vgg.add(tf.keras.layers.Flatten())\n",
        "model_vgg.add(tf.keras.layers.Dense(128, activation = 'relu'))\n",
        "model_vgg.add(BatchNormalization())\n",
        "model_vgg.add(tf.keras.layers.Dense(64, activation = 'relu'))\n",
        "model_vgg.add(BatchNormalization())\n",
        "model_vgg.add(tf.keras.layers.Dense(15, activation = 'softmax'))\n",
        "\n",
        "model_vgg.summary()\n",
        "# optimizer1 = tf.keras.optimizers.SGD(lr=0.05, decay=0.1, momentum=0.1, nesterov=False)\n",
        "\n",
        "# model_vgg.compile(optimizer= optimizer1, loss='categorical_crossentropy', metrics=['accuracy'])\n",
        "# history_vgg = model_vgg.fit(X_train,Y_train, validation_data=(X_val, Y_val), batch_size = 50, epochs=20)\n",
        "\n",
        "model_vgg.compile(optimizer= 'adam', loss='categorical_crossentropy', metrics=['accuracy'])\n",
        "\n",
        "train_datagen = tf.keras.preprocessing.image.ImageDataGenerator(\n",
        "    tf.keras.applications.vgg16.preprocess_input\n",
        ")\n",
        "\n",
        "# train_datagen = tf.keras.preprocessing.image.ImageDataGenerator()\n",
        "val_datagen = tf.keras.preprocessing.image.ImageDataGenerator(\n",
        "    tf.keras.applications.vgg16.preprocess_input\n",
        ")\n",
        "train_set = train_datagen.flow_from_directory(\n",
        "    directory = '/content/train/', class_mode= 'categorical', batch_size=64\n",
        ")\n",
        "val_set = val_datagen.flow_from_directory(\n",
        "    directory='/content/val/', class_mode= 'categorical', batch_size=64\n",
        ")\n",
        "\n",
        "\n",
        "history_vgg = model_vgg.fit(train_set, validation_data=val_set, epochs=10)"
      ],
      "id": "8eda4bed",
      "execution_count": null,
      "outputs": [
        {
          "output_type": "stream",
          "name": "stdout",
          "text": [
            "Downloading data from https://storage.googleapis.com/tensorflow/keras-applications/vgg16/vgg16_weights_tf_dim_ordering_tf_kernels_notop.h5\n",
            "58892288/58889256 [==============================] - 1s 0us/step\n",
            "58900480/58889256 [==============================] - 1s 0us/step\n",
            "Model: \"sequential\"\n",
            "_________________________________________________________________\n",
            " Layer (type)                Output Shape              Param #   \n",
            "=================================================================\n",
            " vgg16 (Functional)          (None, 8, 8, 512)         14714688  \n",
            "                                                                 \n",
            " flatten (Flatten)           (None, 32768)             0         \n",
            "                                                                 \n",
            " dense (Dense)               (None, 128)               4194432   \n",
            "                                                                 \n",
            " batch_normalization (BatchN  (None, 128)              512       \n",
            " ormalization)                                                   \n",
            "                                                                 \n",
            " dense_1 (Dense)             (None, 64)                8256      \n",
            "                                                                 \n",
            " batch_normalization_1 (Batc  (None, 64)               256       \n",
            " hNormalization)                                                 \n",
            "                                                                 \n",
            " dense_2 (Dense)             (None, 15)                975       \n",
            "                                                                 \n",
            "=================================================================\n",
            "Total params: 18,919,119\n",
            "Trainable params: 4,204,047\n",
            "Non-trainable params: 14,715,072\n",
            "_________________________________________________________________\n",
            "Found 12376 images belonging to 15 classes.\n",
            "Found 4138 images belonging to 15 classes.\n"
          ]
        },
        {
          "output_type": "stream",
          "name": "stderr",
          "text": [
            "/usr/local/lib/python3.7/dist-packages/keras_preprocessing/image/image_data_generator.py:720: UserWarning: This ImageDataGenerator specifies `featurewise_center`, but it hasn't been fit on any training data. Fit it first by calling `.fit(numpy_data)`.\n",
            "  warnings.warn('This ImageDataGenerator specifies '\n"
          ]
        },
        {
          "output_type": "stream",
          "name": "stdout",
          "text": [
            "Epoch 1/10\n",
            "194/194 [==============================] - 193s 863ms/step - loss: 0.4855 - accuracy: 0.8659 - val_loss: 0.2629 - val_accuracy: 0.9193\n",
            "Epoch 2/10\n",
            "194/194 [==============================] - 142s 733ms/step - loss: 0.0550 - accuracy: 0.9914 - val_loss: 0.1572 - val_accuracy: 0.9531\n",
            "Epoch 3/10\n",
            "194/194 [==============================] - 142s 734ms/step - loss: 0.0129 - accuracy: 0.9993 - val_loss: 0.1389 - val_accuracy: 0.9599\n",
            "Epoch 4/10\n",
            "194/194 [==============================] - 142s 734ms/step - loss: 0.0044 - accuracy: 1.0000 - val_loss: 0.1371 - val_accuracy: 0.9601\n",
            "Epoch 5/10\n",
            "194/194 [==============================] - 142s 733ms/step - loss: 0.0024 - accuracy: 1.0000 - val_loss: 0.1315 - val_accuracy: 0.9621\n",
            "Epoch 6/10\n",
            "194/194 [==============================] - 142s 733ms/step - loss: 0.0016 - accuracy: 1.0000 - val_loss: 0.1272 - val_accuracy: 0.9618\n",
            "Epoch 7/10\n",
            "194/194 [==============================] - 142s 733ms/step - loss: 0.0012 - accuracy: 1.0000 - val_loss: 0.1313 - val_accuracy: 0.9599\n",
            "Epoch 8/10\n",
            "194/194 [==============================] - 142s 733ms/step - loss: 9.0883e-04 - accuracy: 1.0000 - val_loss: 0.1309 - val_accuracy: 0.9618\n",
            "Epoch 9/10\n",
            "194/194 [==============================] - 142s 733ms/step - loss: 6.6334e-04 - accuracy: 1.0000 - val_loss: 0.1317 - val_accuracy: 0.9625\n",
            "Epoch 10/10\n",
            "194/194 [==============================] - 142s 733ms/step - loss: 5.3631e-04 - accuracy: 1.0000 - val_loss: 0.1285 - val_accuracy: 0.9633\n"
          ]
        }
      ]
    },
    {
      "cell_type": "markdown",
      "metadata": {
        "id": "GMFG7JmZLX-4"
      },
      "source": [
        "### Data Augmentation | Summary: Train: 96.3%; Val: 95%"
      ],
      "id": "GMFG7JmZLX-4"
    },
    {
      "cell_type": "code",
      "metadata": {
        "id": "TqJW_UK0E6nu",
        "colab": {
          "base_uri": "https://localhost:8080/"
        },
        "outputId": "84848f8e-9b81-4668-e3e4-39517f35c149"
      },
      "source": [
        "VGG = tf.keras.applications.VGG16(\n",
        "    include_top=False,\n",
        "    weights=\"imagenet\",\n",
        "    input_shape=(256,256,3),\n",
        ")\n",
        "# VGG.summary()\n",
        "for layer in VGG.layers:\n",
        "    layer.trainable = False\n",
        "\n",
        "model_vgg = Sequential()\n",
        "model_vgg.add(VGG)\n",
        "model_vgg.add(tf.keras.layers.Flatten())\n",
        "model_vgg.add(tf.keras.layers.Dense(128, activation = 'relu'))\n",
        "model_vgg.add(BatchNormalization())\n",
        "model_vgg.add(tf.keras.layers.Dense(64, activation = 'relu'))\n",
        "model_vgg.add(BatchNormalization())\n",
        "model_vgg.add(tf.keras.layers.Dense(15, activation = 'softmax'))\n",
        "\n",
        "model_vgg.summary()\n",
        "# optimizer1 = tf.keras.optimizers.SGD(lr=0.05, decay=0.1, momentum=0.1, nesterov=False)\n",
        "\n",
        "# model_vgg.compile(optimizer= optimizer1, loss='categorical_crossentropy', metrics=['accuracy'])\n",
        "# history_vgg = model_vgg.fit(X_train,Y_train, validation_data=(X_val, Y_val), batch_size = 50, epochs=20)\n",
        "\n",
        "model_vgg.compile(optimizer= 'adam', loss='categorical_crossentropy', metrics=['accuracy'])\n",
        "\n",
        "train_datagen = tf.keras.preprocessing.image.ImageDataGenerator(\n",
        "    rotation_range=20,\n",
        "\t\tzoom_range=0.1,\n",
        "\t\twidth_shift_range=0.1,\n",
        "\t\theight_shift_range=0.1,\n",
        "\t\tshear_range=0.2,\n",
        "\t\thorizontal_flip=True,\n",
        "\t\tfill_mode=\"nearest\"\n",
        ")\n",
        "\n",
        "# train_datagen = tf.keras.preprocessing.image.ImageDataGenerator()\n",
        "val_datagen = tf.keras.preprocessing.image.ImageDataGenerator()\n",
        "train_set = train_datagen.flow_from_directory(\n",
        "    directory = '/content/train/', class_mode= 'categorical', batch_size=64\n",
        ")\n",
        "val_set = val_datagen.flow_from_directory(\n",
        "    directory='/content/val/', class_mode= 'categorical', batch_size=64\n",
        ")\n",
        "\n",
        "\n",
        "history_vgg = model_vgg.fit(train_set, validation_data=val_set, epochs=10)"
      ],
      "id": "TqJW_UK0E6nu",
      "execution_count": null,
      "outputs": [
        {
          "output_type": "stream",
          "name": "stdout",
          "text": [
            "Model: \"sequential_1\"\n",
            "_________________________________________________________________\n",
            " Layer (type)                Output Shape              Param #   \n",
            "=================================================================\n",
            " vgg16 (Functional)          (None, 8, 8, 512)         14714688  \n",
            "                                                                 \n",
            " flatten_1 (Flatten)         (None, 32768)             0         \n",
            "                                                                 \n",
            " dense_3 (Dense)             (None, 128)               4194432   \n",
            "                                                                 \n",
            " batch_normalization_2 (Batc  (None, 128)              512       \n",
            " hNormalization)                                                 \n",
            "                                                                 \n",
            " dense_4 (Dense)             (None, 64)                8256      \n",
            "                                                                 \n",
            " batch_normalization_3 (Batc  (None, 64)               256       \n",
            " hNormalization)                                                 \n",
            "                                                                 \n",
            " dense_5 (Dense)             (None, 15)                975       \n",
            "                                                                 \n",
            "=================================================================\n",
            "Total params: 18,919,119\n",
            "Trainable params: 4,204,047\n",
            "Non-trainable params: 14,715,072\n",
            "_________________________________________________________________\n",
            "Found 12376 images belonging to 15 classes.\n",
            "Found 4138 images belonging to 15 classes.\n",
            "Epoch 1/10\n",
            "194/194 [==============================] - 258s 1s/step - loss: 0.7245 - accuracy: 0.7902 - val_loss: 0.4379 - val_accuracy: 0.8591\n",
            "Epoch 2/10\n",
            "194/194 [==============================] - 256s 1s/step - loss: 0.3130 - accuracy: 0.9034 - val_loss: 0.2961 - val_accuracy: 0.9036\n",
            "Epoch 3/10\n",
            "194/194 [==============================] - 264s 1s/step - loss: 0.2270 - accuracy: 0.9283 - val_loss: 0.2415 - val_accuracy: 0.9210\n",
            "Epoch 4/10\n",
            "194/194 [==============================] - 265s 1s/step - loss: 0.1924 - accuracy: 0.9375 - val_loss: 0.2389 - val_accuracy: 0.9181\n",
            "Epoch 5/10\n",
            "194/194 [==============================] - 264s 1s/step - loss: 0.1680 - accuracy: 0.9465 - val_loss: 0.2090 - val_accuracy: 0.9285\n",
            "Epoch 6/10\n",
            "194/194 [==============================] - 265s 1s/step - loss: 0.1561 - accuracy: 0.9476 - val_loss: 0.2289 - val_accuracy: 0.9273\n",
            "Epoch 7/10\n",
            "194/194 [==============================] - 262s 1s/step - loss: 0.1420 - accuracy: 0.9507 - val_loss: 0.2029 - val_accuracy: 0.9331\n",
            "Epoch 8/10\n",
            "194/194 [==============================] - 264s 1s/step - loss: 0.1195 - accuracy: 0.9613 - val_loss: 0.1562 - val_accuracy: 0.9500\n",
            "Epoch 9/10\n",
            "194/194 [==============================] - 265s 1s/step - loss: 0.1216 - accuracy: 0.9608 - val_loss: 0.1824 - val_accuracy: 0.9357\n",
            "Epoch 10/10\n",
            "194/194 [==============================] - 264s 1s/step - loss: 0.1101 - accuracy: 0.9631 - val_loss: 0.1817 - val_accuracy: 0.9420\n"
          ]
        }
      ]
    },
    {
      "cell_type": "code",
      "metadata": {
        "colab": {
          "base_uri": "https://localhost:8080/"
        },
        "id": "zyalyCTnda8C",
        "outputId": "e85e2261-53d3-4922-bce3-938c7c88ef92"
      },
      "source": [
        "VGG = tf.keras.applications.VGG16(\n",
        "    include_top=False,\n",
        "    weights=\"imagenet\",\n",
        "    input_shape=(256,256,3),\n",
        ")\n",
        "# VGG.summary()\n",
        "for layer in VGG.layers:\n",
        "    layer.trainable = False\n",
        "\n",
        "model_vgg = Sequential()\n",
        "model_vgg.add(VGG)\n",
        "model_vgg.add(tf.keras.layers.Flatten())\n",
        "model_vgg.add(tf.keras.layers.Dense(128, activation = 'relu'))\n",
        "model_vgg.add(BatchNormalization())\n",
        "model_vgg.add(tf.keras.layers.Dropout(0.4))\n",
        "model_vgg.add(tf.keras.layers.Dense(64, activation = 'relu'))\n",
        "model_vgg.add(BatchNormalization())\n",
        "model_vgg.add(tf.keras.layers.Dropout(0.1))\n",
        "model_vgg.add(tf.keras.layers.Dense(15, activation = 'softmax'))\n",
        "\n",
        "model_vgg.summary()\n",
        "# optimizer1 = tf.keras.optimizers.SGD(lr=0.05, decay=0.1, momentum=0.1, nesterov=False)\n",
        "\n",
        "# model_vgg.compile(optimizer= optimizer1, loss='categorical_crossentropy', metrics=['accuracy'])\n",
        "# history_vgg = model_vgg.fit(X_train,Y_train, validation_data=(X_val, Y_val), batch_size = 50, epochs=20)\n",
        "\n",
        "model_vgg.compile(optimizer= 'adam', loss='categorical_crossentropy', metrics=['accuracy'])\n",
        "\n",
        "train_datagen = tf.keras.preprocessing.image.ImageDataGenerator(\n",
        "    rotation_range=20,\n",
        "\t\tzoom_range=0.1,\n",
        "\t\twidth_shift_range=0.1,\n",
        "\t\theight_shift_range=0.1,\n",
        "\t\tshear_range=0.2,\n",
        "\t\thorizontal_flip=True,\n",
        "\t\tfill_mode=\"nearest\"\n",
        ")\n",
        "\n",
        "# train_datagen = tf.keras.preprocessing.image.ImageDataGenerator()\n",
        "val_datagen = tf.keras.preprocessing.image.ImageDataGenerator()\n",
        "train_set = train_datagen.flow_from_directory(\n",
        "    directory = '/content/train/', class_mode= 'categorical', batch_size=64\n",
        ")\n",
        "val_set = val_datagen.flow_from_directory(\n",
        "    directory='/content/val/', class_mode= 'categorical', batch_size=64\n",
        ")\n",
        "\n",
        "\n",
        "history_vgg = model_vgg.fit(train_set, validation_data=val_set, epochs=15)"
      ],
      "id": "zyalyCTnda8C",
      "execution_count": null,
      "outputs": [
        {
          "output_type": "stream",
          "name": "stdout",
          "text": [
            "Model: \"sequential_17\"\n",
            "_________________________________________________________________\n",
            " Layer (type)                Output Shape              Param #   \n",
            "=================================================================\n",
            " vgg16 (Functional)          (None, 8, 8, 512)         14714688  \n",
            "                                                                 \n",
            " flatten_17 (Flatten)        (None, 32768)             0         \n",
            "                                                                 \n",
            " dense_48 (Dense)            (None, 128)               4194432   \n",
            "                                                                 \n",
            " batch_normalization_22 (Bat  (None, 128)              512       \n",
            " chNormalization)                                                \n",
            "                                                                 \n",
            " dropout_17 (Dropout)        (None, 128)               0         \n",
            "                                                                 \n",
            " dense_49 (Dense)            (None, 64)                8256      \n",
            "                                                                 \n",
            " batch_normalization_23 (Bat  (None, 64)               256       \n",
            " chNormalization)                                                \n",
            "                                                                 \n",
            " dropout_18 (Dropout)        (None, 64)                0         \n",
            "                                                                 \n",
            " dense_50 (Dense)            (None, 15)                975       \n",
            "                                                                 \n",
            "=================================================================\n",
            "Total params: 18,919,119\n",
            "Trainable params: 4,204,047\n",
            "Non-trainable params: 14,715,072\n",
            "_________________________________________________________________\n",
            "Found 12376 images belonging to 15 classes.\n",
            "Found 4138 images belonging to 15 classes.\n",
            "Epoch 1/15\n",
            "194/194 [==============================] - 265s 1s/step - loss: 0.9874 - accuracy: 0.6963 - val_loss: 0.4947 - val_accuracy: 0.8395\n",
            "Epoch 2/15\n",
            "194/194 [==============================] - 259s 1s/step - loss: 0.5009 - accuracy: 0.8423 - val_loss: 0.3205 - val_accuracy: 0.8968\n",
            "Epoch 3/15\n",
            "194/194 [==============================] - 259s 1s/step - loss: 0.3885 - accuracy: 0.8740 - val_loss: 0.2680 - val_accuracy: 0.9145\n",
            "Epoch 4/15\n",
            "194/194 [==============================] - 261s 1s/step - loss: 0.3251 - accuracy: 0.8954 - val_loss: 0.2091 - val_accuracy: 0.9294\n",
            "Epoch 5/15\n",
            "194/194 [==============================] - 259s 1s/step - loss: 0.2865 - accuracy: 0.9052 - val_loss: 0.2420 - val_accuracy: 0.9207\n",
            "Epoch 6/15\n",
            "194/194 [==============================] - 257s 1s/step - loss: 0.2705 - accuracy: 0.9133 - val_loss: 0.2296 - val_accuracy: 0.9227\n",
            "Epoch 7/15\n",
            "194/194 [==============================] - 258s 1s/step - loss: 0.2555 - accuracy: 0.9144 - val_loss: 0.1841 - val_accuracy: 0.9386\n",
            "Epoch 8/15\n",
            "194/194 [==============================] - 257s 1s/step - loss: 0.2389 - accuracy: 0.9200 - val_loss: 0.2226 - val_accuracy: 0.9261\n",
            "Epoch 9/15\n",
            "194/194 [==============================] - 256s 1s/step - loss: 0.2213 - accuracy: 0.9273 - val_loss: 0.2484 - val_accuracy: 0.9188\n",
            "Epoch 10/15\n",
            "194/194 [==============================] - 257s 1s/step - loss: 0.2111 - accuracy: 0.9303 - val_loss: 0.2289 - val_accuracy: 0.9292\n",
            "Epoch 11/15\n",
            "194/194 [==============================] - 256s 1s/step - loss: 0.1997 - accuracy: 0.9342 - val_loss: 0.1929 - val_accuracy: 0.9372\n",
            "Epoch 12/15\n",
            "194/194 [==============================] - 255s 1s/step - loss: 0.1880 - accuracy: 0.9353 - val_loss: 0.2280 - val_accuracy: 0.9248\n",
            "Epoch 13/15\n",
            "194/194 [==============================] - 259s 1s/step - loss: 0.1873 - accuracy: 0.9376 - val_loss: 0.1747 - val_accuracy: 0.9432\n",
            "Epoch 14/15\n",
            "194/194 [==============================] - 262s 1s/step - loss: 0.1698 - accuracy: 0.9442 - val_loss: 0.1964 - val_accuracy: 0.9437\n",
            "Epoch 15/15\n",
            "194/194 [==============================] - 261s 1s/step - loss: 0.1737 - accuracy: 0.9401 - val_loss: 0.1799 - val_accuracy: 0.9393\n"
          ]
        }
      ]
    },
    {
      "cell_type": "markdown",
      "metadata": {
        "id": "6b30aad2"
      },
      "source": [
        "### MobilenetV2 with image augmentation | Summary: Train: 94%; Val: 84%"
      ],
      "id": "6b30aad2"
    },
    {
      "cell_type": "code",
      "metadata": {
        "colab": {
          "base_uri": "https://localhost:8080/"
        },
        "id": "4c765991",
        "outputId": "a5be3237-3850-4b44-e479-16dd24446546"
      },
      "source": [
        "mbnet_v2 = tf.keras.applications.MobileNetV2(\n",
        "    weights=\"imagenet\",\n",
        "    include_top=False,\n",
        "    input_shape=(256,256,3)\n",
        ")\n",
        "\n",
        "mbnet_v2.trainable = False\n",
        "model_mbnet = Sequential()\n",
        "model_mbnet.add(mbnet_v2)\n",
        "model_mbnet.add(tf.keras.layers.Flatten())\n",
        "model_mbnet.add(tf.keras.layers.Dense(128, activation = 'relu'))\n",
        "model_mbnet.add(BatchNormalization())\n",
        "# model_mbnet.add(tf.keras.layers.Dropout(0.4))\n",
        "model_mbnet.add(tf.keras.layers.Dense(64, activation = 'relu'))\n",
        "model_mbnet.add(BatchNormalization())\n",
        "# model_mbnet.add(tf.keras.layers.Dropout(0.1))\n",
        "model_mbnet.add(tf.keras.layers.Dense(15, activation = 'softmax'))\n",
        "\n",
        "model_mbnet.summary()\n",
        "model_mbnet.compile(optimizer= 'adam', loss='categorical_crossentropy', metrics=['accuracy'])\n",
        "# early_stopping_cb = Callback.EarlyStopping(monitor=\"loss\", patience=3)\n",
        "\n",
        "# train_datagen = tf.keras.preprocessing.image.ImageDataGenerator(\n",
        "#     tf.keras.applications.mobilenet_v2.preprocess_input\n",
        "# )\n",
        "train_datagen = tf.keras.preprocessing.image.ImageDataGenerator(tf.keras.applications.MobileNetV2.preprocess_input)\n",
        "val_datagen = tf.keras.preprocessing.image.ImageDataGenerator(tf.keras.applications.MobileNetV2.preprocess_input)\n",
        "train_set = train_datagen.flow_from_directory(\n",
        "    directory = '/content/train/', class_mode= 'categorical', batch_size=64\n",
        ")\n",
        "val_set = val_datagen.flow_from_directory(\n",
        "    directory='/content/val/', class_mode= 'categorical', batch_size=64\n",
        ")\n",
        "\n",
        "history_mbnet = model_mbnet.fit(train_set, validation_data=val_set, epochs=5)"
      ],
      "id": "4c765991",
      "execution_count": null,
      "outputs": [
        {
          "output_type": "stream",
          "name": "stdout",
          "text": [
            "WARNING:tensorflow:`input_shape` is undefined or non-square, or `rows` is not in [96, 128, 160, 192, 224]. Weights for input shape (224, 224) will be loaded as the default.\n",
            "Model: \"sequential_12\"\n",
            "_________________________________________________________________\n",
            " Layer (type)                Output Shape              Param #   \n",
            "=================================================================\n",
            " mobilenetv2_1.00_224 (Funct  (None, 8, 8, 1280)       2257984   \n",
            " ional)                                                          \n",
            "                                                                 \n",
            " flatten_12 (Flatten)        (None, 81920)             0         \n",
            "                                                                 \n",
            " dense_33 (Dense)            (None, 128)               10485888  \n",
            "                                                                 \n",
            " batch_normalization_16 (Bat  (None, 128)              512       \n",
            " chNormalization)                                                \n",
            "                                                                 \n",
            " dropout_11 (Dropout)        (None, 128)               0         \n",
            "                                                                 \n",
            " dense_34 (Dense)            (None, 64)                8256      \n",
            "                                                                 \n",
            " batch_normalization_17 (Bat  (None, 64)               256       \n",
            " chNormalization)                                                \n",
            "                                                                 \n",
            " dropout_12 (Dropout)        (None, 64)                0         \n",
            "                                                                 \n",
            " dense_35 (Dense)            (None, 15)                975       \n",
            "                                                                 \n",
            "=================================================================\n",
            "Total params: 12,753,871\n",
            "Trainable params: 10,495,503\n",
            "Non-trainable params: 2,258,368\n",
            "_________________________________________________________________\n",
            "Found 12376 images belonging to 15 classes.\n",
            "Found 4138 images belonging to 15 classes.\n",
            "Epoch 1/5\n",
            "194/194 [==============================] - 59s 285ms/step - loss: 1.1670 - accuracy: 0.6427 - val_loss: 0.7024 - val_accuracy: 0.7832\n",
            "Epoch 2/5\n",
            "194/194 [==============================] - 53s 274ms/step - loss: 0.5745 - accuracy: 0.8201 - val_loss: 0.6010 - val_accuracy: 0.8040\n",
            "Epoch 3/5\n",
            "194/194 [==============================] - 53s 273ms/step - loss: 0.3584 - accuracy: 0.8889 - val_loss: 0.5037 - val_accuracy: 0.8388\n",
            "Epoch 4/5\n",
            "194/194 [==============================] - 53s 273ms/step - loss: 0.2536 - accuracy: 0.9233 - val_loss: 0.5762 - val_accuracy: 0.8304\n",
            "Epoch 5/5\n",
            "194/194 [==============================] - 53s 273ms/step - loss: 0.1863 - accuracy: 0.9418 - val_loss: 0.6743 - val_accuracy: 0.8026\n"
          ]
        }
      ]
    },
    {
      "cell_type": "markdown",
      "metadata": {
        "id": "6cd5f364"
      },
      "source": [
        "**With preprocessing step**"
      ],
      "id": "6cd5f364"
    },
    {
      "cell_type": "code",
      "metadata": {
        "colab": {
          "base_uri": "https://localhost:8080/"
        },
        "id": "53ba5334",
        "outputId": "425ad943-ab52-4d3d-9bd9-5a4d3affa72a"
      },
      "source": [
        "mbnet_v2 = tf.keras.applications.MobileNetV2(\n",
        "    weights=\"imagenet\",\n",
        "    include_top=False,\n",
        "    input_shape=(256,256,3)\n",
        ")\n",
        "\n",
        "mbnet_v2.trainable = False\n",
        "model_mbnet = Sequential()\n",
        "model_mbnet.add(mbnet_v2)\n",
        "model_mbnet.add(tf.keras.layers.Flatten())\n",
        "model_mbnet.add(tf.keras.layers.Dense(128, activation = 'relu'))\n",
        "model_mbnet.add(BatchNormalization())\n",
        "model_mbnet.add(tf.keras.layers.Dropout(0.4))\n",
        "model_mbnet.add(tf.keras.layers.Dense(64, activation = 'relu'))\n",
        "model_mbnet.add(BatchNormalization())\n",
        "model_mbnet.add(tf.keras.layers.Dropout(0.1))\n",
        "model_mbnet.add(tf.keras.layers.Dense(15, activation = 'softmax'))\n",
        "\n",
        "model_mbnet.summary()\n",
        "model_mbnet.compile(optimizer= 'adam', loss='categorical_crossentropy', metrics=['accuracy'])\n",
        "# early_stopping_cb = Callback.EarlyStopping(monitor=\"loss\", patience=3)\n",
        "\n",
        "train_datagen = tf.keras.preprocessing.image.ImageDataGenerator(\n",
        "    rotation_range=20,\n",
        "\t\tzoom_range=0.1,\n",
        "\t\twidth_shift_range=0.1,\n",
        "\t\theight_shift_range=0.1,\n",
        "\t\tshear_range=0.2,\n",
        "\t\thorizontal_flip=True,\n",
        "\t\tfill_mode=\"nearest\"\n",
        ")\n",
        "# train_datagen = tf.keras.preprocessing.image.ImageDataGenerator()\n",
        "val_datagen = tf.keras.preprocessing.image.ImageDataGenerator()\n",
        "train_set = train_datagen.flow_from_directory(\n",
        "    directory = '/content/train/', class_mode= 'categorical', batch_size=64\n",
        ")\n",
        "val_set = val_datagen.flow_from_directory(\n",
        "    directory='/content/val/', class_mode= 'categorical', batch_size=64\n",
        ")\n",
        "\n",
        "history_mbnet = model_mbnet.fit(train_set, validation_data=val_set, epochs=15)"
      ],
      "id": "53ba5334",
      "execution_count": null,
      "outputs": [
        {
          "output_type": "stream",
          "name": "stdout",
          "text": [
            "WARNING:tensorflow:`input_shape` is undefined or non-square, or `rows` is not in [96, 128, 160, 192, 224]. Weights for input shape (224, 224) will be loaded as the default.\n",
            "Model: \"sequential_14\"\n",
            "_________________________________________________________________\n",
            " Layer (type)                Output Shape              Param #   \n",
            "=================================================================\n",
            " mobilenetv2_1.00_224 (Funct  (None, 8, 8, 1280)       2257984   \n",
            " ional)                                                          \n",
            "                                                                 \n",
            " flatten_14 (Flatten)        (None, 81920)             0         \n",
            "                                                                 \n",
            " dense_39 (Dense)            (None, 128)               10485888  \n",
            "                                                                 \n",
            " batch_normalization_20 (Bat  (None, 128)              512       \n",
            " chNormalization)                                                \n",
            "                                                                 \n",
            " dropout_15 (Dropout)        (None, 128)               0         \n",
            "                                                                 \n",
            " dense_40 (Dense)            (None, 64)                8256      \n",
            "                                                                 \n",
            " batch_normalization_21 (Bat  (None, 64)               256       \n",
            " chNormalization)                                                \n",
            "                                                                 \n",
            " dropout_16 (Dropout)        (None, 64)                0         \n",
            "                                                                 \n",
            " dense_41 (Dense)            (None, 15)                975       \n",
            "                                                                 \n",
            "=================================================================\n",
            "Total params: 12,753,871\n",
            "Trainable params: 10,495,503\n",
            "Non-trainable params: 2,258,368\n",
            "_________________________________________________________________\n",
            "Found 12376 images belonging to 15 classes.\n",
            "Found 4138 images belonging to 15 classes.\n"
          ]
        },
        {
          "output_type": "stream",
          "name": "stderr",
          "text": [
            "/usr/local/lib/python3.7/dist-packages/keras_preprocessing/image/image_data_generator.py:720: UserWarning: This ImageDataGenerator specifies `featurewise_center`, but it hasn't been fit on any training data. Fit it first by calling `.fit(numpy_data)`.\n",
            "  warnings.warn('This ImageDataGenerator specifies '\n"
          ]
        },
        {
          "output_type": "stream",
          "name": "stdout",
          "text": [
            "Epoch 1/5\n",
            "194/194 [==============================] - 58s 282ms/step - loss: 1.1600 - accuracy: 0.6479 - val_loss: 0.6740 - val_accuracy: 0.7885\n",
            "Epoch 2/5\n",
            "194/194 [==============================] - 53s 275ms/step - loss: 0.5608 - accuracy: 0.8250 - val_loss: 0.6476 - val_accuracy: 0.7941\n",
            "Epoch 3/5\n",
            "194/194 [==============================] - 53s 274ms/step - loss: 0.3630 - accuracy: 0.8874 - val_loss: 0.6068 - val_accuracy: 0.8006\n",
            "Epoch 4/5\n",
            "194/194 [==============================] - 53s 275ms/step - loss: 0.2606 - accuracy: 0.9167 - val_loss: 0.5255 - val_accuracy: 0.8330\n",
            "Epoch 5/5\n",
            "194/194 [==============================] - 53s 274ms/step - loss: 0.1706 - accuracy: 0.9476 - val_loss: 0.5519 - val_accuracy: 0.8415\n"
          ]
        }
      ]
    },
    {
      "cell_type": "code",
      "metadata": {
        "id": "177ad98d"
      },
      "source": [
        ""
      ],
      "id": "177ad98d",
      "execution_count": null,
      "outputs": []
    },
    {
      "cell_type": "markdown",
      "metadata": {
        "id": "d3YOKCZlL5fd"
      },
      "source": [
        "### EfficientNet | Summary: Train: 91.6%; Val: 92.3%"
      ],
      "id": "d3YOKCZlL5fd"
    },
    {
      "cell_type": "code",
      "metadata": {
        "scrolled": true,
        "colab": {
          "base_uri": "https://localhost:8080/"
        },
        "id": "0f243bda",
        "outputId": "37e3e1ed-e288-43f0-f5dd-ec2c7057efbc"
      },
      "source": [
        "# import tensorflow_hub as hub\n",
        "old_model_2 = tf.keras.applications.efficientnet.EfficientNetB7(\n",
        "    weights=\"imagenet\",\n",
        "    include_top=False,\n",
        "    input_shape=(256,256,3)\n",
        ")\n",
        "# efficientnet = 'efficientnet/'\n",
        "# old_model_2.trainable = False\n",
        "for layer in old_model_2.layers:\n",
        "    layer.trainable = False\n",
        "\n",
        "model_3b = Sequential()\n",
        "model_3b.add(old_model_2)\n",
        "model_3b.add(tf.keras.layers.Flatten())\n",
        "model_3b.add(tf.keras.layers.Dense(128, activation = 'relu'))\n",
        "model_3b.add(BatchNormalization())\n",
        "model_3b.add(tf.keras.layers.Dense(64, activation = 'relu'))\n",
        "model_3b.add(BatchNormalization())\n",
        "model_3b.add(tf.keras.layers.Dense(15, activation = 'softmax'))\n",
        "\n",
        "model_3b.summary()\n",
        "# optimizer = tf.keras.optimizers.SGD(lr=0.01, decay=0.1, momentum=0.1, nesterov=False)\n",
        "model_3b.compile(optimizer='adam', loss='categorical_crossentropy', metrics=['accuracy'])\n",
        "\n",
        "train_datagen = tf.keras.preprocessing.image.ImageDataGenerator(\n",
        "    rotation_range=20,\n",
        "\t\tzoom_range=0.1,\n",
        "\t\twidth_shift_range=0.1,\n",
        "\t\theight_shift_range=0.1,\n",
        "\t\tshear_range=0.2,\n",
        "\t\thorizontal_flip=True,\n",
        "\t\tfill_mode=\"nearest\"\n",
        ")\n",
        "val_datagen = tf.keras.preprocessing.image.ImageDataGenerator()\n",
        "train_set = train_datagen.flow_from_directory(directory = '/content/train/', class_mode= 'categorical', batch_size=32)\n",
        "val_set = val_datagen.flow_from_directory(directory='/content/val/', class_mode= 'categorical', batch_size=32)\n",
        "\n",
        "history_3b = model_3b.fit(train_set, validation_data=val_set,batch_size = 50, epochs=5)"
      ],
      "id": "0f243bda",
      "execution_count": null,
      "outputs": [
        {
          "output_type": "stream",
          "name": "stdout",
          "text": [
            "Downloading data from https://storage.googleapis.com/keras-applications/efficientnetb7_notop.h5\n",
            "258080768/258076736 [==============================] - 3s 0us/step\n",
            "258088960/258076736 [==============================] - 3s 0us/step\n",
            "Model: \"sequential_2\"\n",
            "_________________________________________________________________\n",
            " Layer (type)                Output Shape              Param #   \n",
            "=================================================================\n",
            " efficientnetb7 (Functional)  (None, 8, 8, 2560)       64097687  \n",
            "                                                                 \n",
            " flatten_2 (Flatten)         (None, 163840)            0         \n",
            "                                                                 \n",
            " dense_6 (Dense)             (None, 128)               20971648  \n",
            "                                                                 \n",
            " batch_normalization_4 (Batc  (None, 128)              512       \n",
            " hNormalization)                                                 \n",
            "                                                                 \n",
            " dense_7 (Dense)             (None, 64)                8256      \n",
            "                                                                 \n",
            " batch_normalization_5 (Batc  (None, 64)               256       \n",
            " hNormalization)                                                 \n",
            "                                                                 \n",
            " dense_8 (Dense)             (None, 15)                975       \n",
            "                                                                 \n",
            "=================================================================\n",
            "Total params: 85,079,334\n",
            "Trainable params: 20,981,263\n",
            "Non-trainable params: 64,098,071\n",
            "_________________________________________________________________\n",
            "Found 12376 images belonging to 15 classes.\n",
            "Found 4138 images belonging to 15 classes.\n",
            "Epoch 1/5\n",
            "387/387 [==============================] - 529s 1s/step - loss: 0.9010 - accuracy: 0.7241 - val_loss: 0.4589 - val_accuracy: 0.8497\n",
            "Epoch 2/5\n",
            "387/387 [==============================] - 493s 1s/step - loss: 0.4176 - accuracy: 0.8686 - val_loss: 0.3412 - val_accuracy: 0.8876\n",
            "Epoch 3/5\n",
            "387/387 [==============================] - 494s 1s/step - loss: 0.3197 - accuracy: 0.8956 - val_loss: 0.3317 - val_accuracy: 0.8920\n",
            "Epoch 4/5\n",
            "387/387 [==============================] - 493s 1s/step - loss: 0.2762 - accuracy: 0.9071 - val_loss: 0.2413 - val_accuracy: 0.9263\n",
            "Epoch 5/5\n",
            "387/387 [==============================] - 493s 1s/step - loss: 0.2508 - accuracy: 0.9159 - val_loss: 0.2319 - val_accuracy: 0.9227\n"
          ]
        }
      ]
    },
    {
      "cell_type": "code",
      "metadata": {
        "colab": {
          "base_uri": "https://localhost:8080/"
        },
        "id": "e4eyuhg_VPa0",
        "outputId": "c02fb138-e46e-4d1b-e927-5a3ab4b17b98"
      },
      "source": [
        "# import tensorflow_hub as hub\n",
        "old_model_2 = tf.keras.applications.efficientnet.EfficientNetB7(\n",
        "    weights=\"imagenet\",\n",
        "    include_top=False,\n",
        "    input_shape=(256,256,3)\n",
        ")\n",
        "# efficientnet = 'efficientnet/'\n",
        "# old_model_2.trainable = False\n",
        "for layer in old_model_2.layers:\n",
        "    layer.trainable = False\n",
        "\n",
        "model_3b = Sequential()\n",
        "model_3b.add(old_model_2)\n",
        "model_3b.add(tf.keras.layers.Flatten())\n",
        "model_3b.add(tf.keras.layers.Dense(128, activation = 'relu'))\n",
        "model_3b.add(BatchNormalization())\n",
        "model_3b.add(tf.keras.layers.Dense(64, activation = 'relu'))\n",
        "model_3b.add(BatchNormalization())\n",
        "model_3b.add(tf.keras.layers.Dense(15, activation = 'softmax'))\n",
        "\n",
        "model_3b.summary()\n",
        "# optimizer = tf.keras.optimizers.SGD(lr=0.01, decay=0.1, momentum=0.1, nesterov=False)\n",
        "model_3b.compile(optimizer='adam', loss='categorical_crossentropy', metrics=['accuracy'])\n",
        "\n",
        "train_datagen = tf.keras.preprocessing.image.ImageDataGenerator(tf.keras.applications.efficientnet.EfficientNetB7.preprocess_input)\n",
        "val_datagen = tf.keras.preprocessing.image.ImageDataGenerator(tf.keras.applications.efficientnet.EfficientNetB7.preprocess_input)\n",
        "train_set = train_datagen.flow_from_directory(directory = '/content/train/', class_mode= 'categorical', batch_size=32)\n",
        "val_set = val_datagen.flow_from_directory(directory='/content/val/', class_mode= 'categorical', batch_size=32)\n",
        "\n",
        "history_3b = model_3b.fit(train_set, validation_data=val_set,batch_size = 50, epochs=10)"
      ],
      "id": "e4eyuhg_VPa0",
      "execution_count": null,
      "outputs": [
        {
          "metadata": {
            "tags": null
          },
          "name": "stdout",
          "output_type": "stream",
          "text": [
            "Model: \"sequential_3\"\n",
            "_________________________________________________________________\n",
            " Layer (type)                Output Shape              Param #   \n",
            "=================================================================\n",
            " efficientnetb7 (Functional)  (None, 8, 8, 2560)       64097687  \n",
            "                                                                 \n",
            " flatten_3 (Flatten)         (None, 163840)            0         \n",
            "                                                                 \n",
            " dense_9 (Dense)             (None, 128)               20971648  \n",
            "                                                                 \n",
            " dense_10 (Dense)            (None, 64)                8256      \n",
            "                                                                 \n",
            " dense_11 (Dense)            (None, 15)                975       \n",
            "                                                                 \n",
            "=================================================================\n",
            "Total params: 85,078,566\n",
            "Trainable params: 20,980,879\n",
            "Non-trainable params: 64,097,687\n",
            "_________________________________________________________________\n",
            "Found 12376 images belonging to 15 classes.\n",
            "Found 4138 images belonging to 15 classes.\n",
            "Epoch 1/5\n",
            "387/387 [==============================] - 524s 1s/step - loss: 3.9069 - accuracy: 0.5566 - val_loss: 1.8429 - val_accuracy: 0.7170\n",
            "Epoch 2/5\n",
            "387/387 [==============================] - 495s 1s/step - loss: 1.9482 - accuracy: 0.6653 - val_loss: 1.5229 - val_accuracy: 0.7786\n",
            "Epoch 3/5\n",
            "387/387 [==============================] - 495s 1s/step - loss: 1.7451 - accuracy: 0.6860 - val_loss: 1.4723 - val_accuracy: 0.7566\n",
            "Epoch 4/5\n",
            "387/387 [==============================] - 496s 1s/step - loss: 1.6615 - accuracy: 0.6851 - val_loss: 1.4465 - val_accuracy: 0.7620\n",
            "Epoch 5/5\n",
            "387/387 [==============================] - ETA: 0s - loss: 1.6417 - accuracy: 0.6818"
          ]
        }
      ]
    },
    {
      "cell_type": "code",
      "metadata": {
        "id": "cEBy4Av9mbNr"
      },
      "source": [
        ""
      ],
      "id": "cEBy4Av9mbNr",
      "execution_count": null,
      "outputs": []
    }
  ]
}